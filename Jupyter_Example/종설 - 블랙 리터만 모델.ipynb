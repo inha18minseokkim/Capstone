{
 "cells": [
  {
   "cell_type": "code",
   "execution_count": 1,
   "id": "482b696f",
   "metadata": {},
   "outputs": [],
   "source": [
    "import FinanceDataReader as fdr\n",
    "import asyncio\n",
    "import numpy as np\n",
    "import pandas \n",
    "import pandas as pd\n",
    "\n",
    "class StkPrice:\n",
    "    def __init__(self):\n",
    "        self.cap = fdr.StockListing('KRX-MARCAP')\n",
    "        self.cap = self.cap.loc[:,['Code','Marcap']]\n",
    "        self.cap.set_index('Code',inplace=True)\n",
    "    async def getPrice(self, code: str):\n",
    "        res = fdr.DataReader(code)['Close']\n",
    "        return res\n",
    "    async def getMarketCap(self, code: str):\n",
    "        return self.cap.loc[code]['Marcap']"
   ]
  },
  {
   "cell_type": "code",
   "execution_count": 2,
   "id": "06e4334f",
   "metadata": {},
   "outputs": [],
   "source": [
    "code = ['055550','003550','009200','000990','031440','009150','024110']\n",
    "loader = StkPrice()\n",
    "df = [await loader.getPrice(c) for c in code]\n",
    "cap = [await loader.getMarketCap(c) for c in code]"
   ]
  },
  {
   "cell_type": "code",
   "execution_count": 3,
   "id": "31d1b951",
   "metadata": {},
   "outputs": [
    {
     "data": {
      "text/plain": [
       "[19158089792850,\n",
       " 13323394107100,\n",
       " 113593416300,\n",
       " 1995716530600,\n",
       " 184717296000,\n",
       " 10046302112000,\n",
       " 8224521486350]"
      ]
     },
     "execution_count": 3,
     "metadata": {},
     "output_type": "execute_result"
    }
   ],
   "source": [
    "cap"
   ]
  },
  {
   "cell_type": "code",
   "execution_count": 4,
   "id": "e3e4768f",
   "metadata": {},
   "outputs": [],
   "source": [
    "df = pd.DataFrame(df).T\n",
    "df.columns = code"
   ]
  },
  {
   "cell_type": "code",
   "execution_count": 5,
   "id": "7aad3c1a",
   "metadata": {},
   "outputs": [],
   "source": [
    "df = df.dropna()"
   ]
  },
  {
   "cell_type": "code",
   "execution_count": 6,
   "id": "67759ac3",
   "metadata": {},
   "outputs": [],
   "source": [
    "rtn = ((df.shift(90) - df)/df).dropna()"
   ]
  },
  {
   "cell_type": "code",
   "execution_count": 7,
   "id": "767498ff",
   "metadata": {},
   "outputs": [],
   "source": [
    "rtn_cov = rtn.corr()"
   ]
  },
  {
   "cell_type": "code",
   "execution_count": 8,
   "id": "2fa05bc1",
   "metadata": {},
   "outputs": [
    {
     "data": {
      "text/plain": [
       "array([0.36115765, 0.25116522, 0.0021414 , 0.03762214, 0.00348219,\n",
       "       0.1893873 , 0.1550441 ])"
      ]
     },
     "execution_count": 8,
     "metadata": {},
     "output_type": "execute_result"
    }
   ],
   "source": [
    "w_mkt = np.array(cap)/np.sum(cap)\n",
    "w_mkt"
   ]
  },
  {
   "cell_type": "code",
   "execution_count": 9,
   "id": "49a53866",
   "metadata": {},
   "outputs": [],
   "source": [
    "expected_rtn = rtn.mean().multiply(w_mkt).sum()"
   ]
  },
  {
   "cell_type": "code",
   "execution_count": 10,
   "id": "8596b327",
   "metadata": {},
   "outputs": [
    {
     "data": {
      "text/plain": [
       "-0.0036632607819802082"
      ]
     },
     "execution_count": 10,
     "metadata": {},
     "output_type": "execute_result"
    }
   ],
   "source": [
    "expected_rtn"
   ]
  },
  {
   "cell_type": "code",
   "execution_count": 11,
   "id": "045d2efe",
   "metadata": {},
   "outputs": [],
   "source": [
    "portfolio_variance = w_mkt.dot(rtn_cov).dot(w_mkt)\n",
    "lambd = expected_rtn / portfolio_variance"
   ]
  },
  {
   "cell_type": "code",
   "execution_count": 12,
   "id": "a25cef98",
   "metadata": {},
   "outputs": [
    {
     "data": {
      "text/plain": [
       "-0.005771858945596665"
      ]
     },
     "execution_count": 12,
     "metadata": {},
     "output_type": "execute_result"
    }
   ],
   "source": [
    "lambd"
   ]
  },
  {
   "cell_type": "code",
   "execution_count": 13,
   "id": "23f45f77",
   "metadata": {},
   "outputs": [],
   "source": [
    "Pi = lambd * rtn_cov.dot(w_mkt)"
   ]
  },
  {
   "cell_type": "code",
   "execution_count": 14,
   "id": "5e34d1df",
   "metadata": {},
   "outputs": [
    {
     "data": {
      "text/plain": [
       "055550   -0.004155\n",
       "003550   -0.003687\n",
       "009200   -0.002307\n",
       "000990   -0.002178\n",
       "031440   -0.002450\n",
       "009150   -0.002806\n",
       "024110   -0.003933\n",
       "dtype: float64"
      ]
     },
     "execution_count": 14,
     "metadata": {},
     "output_type": "execute_result"
    }
   ],
   "source": [
    "Pi"
   ]
  },
  {
   "cell_type": "code",
   "execution_count": 182,
   "id": "c5b2659d",
   "metadata": {},
   "outputs": [],
   "source": [
    "Q = np.array([ 0.07669642,  0.09424969,  0.18199817,  0.12835284, -0.02027411, 0.13328767,  0.10802241])\n",
    "#Q = np.array([ 1 for i in range(7)])\n",
    "P = np.eye(len(code))\n",
    "tau = 1/len(code)"
   ]
  },
  {
   "cell_type": "code",
   "execution_count": 183,
   "id": "95d204bd",
   "metadata": {},
   "outputs": [
    {
     "data": {
      "text/plain": [
       "array([[1., 0., 0., 0., 0., 0., 0.],\n",
       "       [0., 1., 0., 0., 0., 0., 0.],\n",
       "       [0., 0., 1., 0., 0., 0., 0.],\n",
       "       [0., 0., 0., 1., 0., 0., 0.],\n",
       "       [0., 0., 0., 0., 1., 0., 0.],\n",
       "       [0., 0., 0., 0., 0., 1., 0.],\n",
       "       [0., 0., 0., 0., 0., 0., 1.]])"
      ]
     },
     "execution_count": 183,
     "metadata": {},
     "output_type": "execute_result"
    }
   ],
   "source": [
    "P"
   ]
  },
  {
   "cell_type": "code",
   "execution_count": 184,
   "id": "7398c916",
   "metadata": {},
   "outputs": [],
   "source": [
    "# P[0,0] = -1\n",
    "# P[0,1] = 1\n",
    "# P[1,1] = 1\n",
    "# P[1,3] = -1\n",
    "# P[2,2] = -1\n",
    "# P[2,4] = 0.5\n",
    "# P[2,1] = 0.5\n",
    "#P[0,0] = 1\n",
    "#P[1,1] = 1\n",
    "#P[2,2] = 1"
   ]
  },
  {
   "cell_type": "code",
   "execution_count": 185,
   "id": "1d2a3835",
   "metadata": {
    "scrolled": true
   },
   "outputs": [
    {
     "data": {
      "text/plain": [
       "array([[1., 0., 0., 0., 0., 0., 0.],\n",
       "       [0., 1., 0., 0., 0., 0., 0.],\n",
       "       [0., 0., 1., 0., 0., 0., 0.],\n",
       "       [0., 0., 0., 1., 0., 0., 0.],\n",
       "       [0., 0., 0., 0., 1., 0., 0.],\n",
       "       [0., 0., 0., 0., 0., 1., 0.],\n",
       "       [0., 0., 0., 0., 0., 0., 1.]])"
      ]
     },
     "execution_count": 185,
     "metadata": {},
     "output_type": "execute_result"
    }
   ],
   "source": [
    "P"
   ]
  },
  {
   "cell_type": "code",
   "execution_count": 186,
   "id": "14f6bcec",
   "metadata": {},
   "outputs": [],
   "source": [
    "Omega = tau * P.dot(rtn_cov).dot(P.T) * np.eye(len(Q))"
   ]
  },
  {
   "cell_type": "code",
   "execution_count": 187,
   "id": "abf8863c",
   "metadata": {
    "scrolled": true
   },
   "outputs": [
    {
     "data": {
      "text/plain": [
       "array([[0.14285714, 0.        , 0.        , 0.        , 0.        ,\n",
       "        0.        , 0.        ],\n",
       "       [0.        , 0.14285714, 0.        , 0.        , 0.        ,\n",
       "        0.        , 0.        ],\n",
       "       [0.        , 0.        , 0.14285714, 0.        , 0.        ,\n",
       "        0.        , 0.        ],\n",
       "       [0.        , 0.        , 0.        , 0.14285714, 0.        ,\n",
       "        0.        , 0.        ],\n",
       "       [0.        , 0.        , 0.        , 0.        , 0.14285714,\n",
       "        0.        , 0.        ],\n",
       "       [0.        , 0.        , 0.        , 0.        , 0.        ,\n",
       "        0.14285714, 0.        ],\n",
       "       [0.        , 0.        , 0.        , 0.        , 0.        ,\n",
       "        0.        , 0.14285714]])"
      ]
     },
     "execution_count": 187,
     "metadata": {},
     "output_type": "execute_result"
    }
   ],
   "source": [
    "Omega"
   ]
  },
  {
   "cell_type": "code",
   "execution_count": 188,
   "id": "13d6f9df",
   "metadata": {},
   "outputs": [],
   "source": [
    "from numpy.linalg import inv\n",
    "ER = Pi * tau * rtn_cov.dot(P.T).dot(inv(P.dot(tau*rtn_cov).dot(P.T)+Omega).dot(Q-P.dot(Pi)))"
   ]
  },
  {
   "cell_type": "code",
   "execution_count": 189,
   "id": "ea57e71f",
   "metadata": {
    "scrolled": true
   },
   "outputs": [
    {
     "data": {
      "text/plain": [
       "055550   -0.000336\n",
       "003550   -0.000296\n",
       "009200   -0.000247\n",
       "000990   -0.000190\n",
       "031440   -0.000092\n",
       "009150   -0.000232\n",
       "024110   -0.000322\n",
       "dtype: float64"
      ]
     },
     "execution_count": 189,
     "metadata": {},
     "output_type": "execute_result"
    }
   ],
   "source": [
    "ER"
   ]
  },
  {
   "cell_type": "code",
   "execution_count": 190,
   "id": "209a8cba",
   "metadata": {},
   "outputs": [],
   "source": [
    "w_hat = inv(rtn_cov).dot(ER)"
   ]
  },
  {
   "cell_type": "code",
   "execution_count": 191,
   "id": "dbdf6a06",
   "metadata": {},
   "outputs": [
    {
     "data": {
      "text/plain": [
       "055550    0.260414\n",
       "003550    0.207392\n",
       "009200    0.260432\n",
       "000990    0.067376\n",
       "031440   -0.424697\n",
       "009150    0.271841\n",
       "024110    0.357242\n",
       "dtype: float64"
      ]
     },
     "execution_count": 191,
     "metadata": {},
     "output_type": "execute_result"
    }
   ],
   "source": [
    "w_hat = pd.Series(w_hat / w_hat.sum(), index=code)\n",
    "w_hat"
   ]
  },
  {
   "cell_type": "code",
   "execution_count": 192,
   "id": "922e4dd8",
   "metadata": {},
   "outputs": [
    {
     "data": {
      "text/plain": [
       "1.0"
      ]
     },
     "execution_count": 192,
     "metadata": {},
     "output_type": "execute_result"
    }
   ],
   "source": [
    "np.sum(w_hat)"
   ]
  },
  {
   "cell_type": "code",
   "execution_count": 193,
   "id": "27266dad",
   "metadata": {},
   "outputs": [],
   "source": [
    "df = df.loc['2021-01-01':]"
   ]
  },
  {
   "cell_type": "code",
   "execution_count": 194,
   "id": "82148849",
   "metadata": {},
   "outputs": [],
   "source": [
    "tr = (df.apply(lambda x : x/df.iloc[0],axis=1) * w_hat).sum(axis=1)"
   ]
  },
  {
   "cell_type": "code",
   "execution_count": 195,
   "id": "dc3910e7",
   "metadata": {},
   "outputs": [
    {
     "data": {
      "text/html": [
       "<div>\n",
       "<style scoped>\n",
       "    .dataframe tbody tr th:only-of-type {\n",
       "        vertical-align: middle;\n",
       "    }\n",
       "\n",
       "    .dataframe tbody tr th {\n",
       "        vertical-align: top;\n",
       "    }\n",
       "\n",
       "    .dataframe thead th {\n",
       "        text-align: right;\n",
       "    }\n",
       "</style>\n",
       "<table border=\"1\" class=\"dataframe\">\n",
       "  <thead>\n",
       "    <tr style=\"text-align: right;\">\n",
       "      <th></th>\n",
       "      <th>055550</th>\n",
       "      <th>003550</th>\n",
       "      <th>009200</th>\n",
       "      <th>000990</th>\n",
       "      <th>031440</th>\n",
       "      <th>009150</th>\n",
       "      <th>024110</th>\n",
       "    </tr>\n",
       "    <tr>\n",
       "      <th>Date</th>\n",
       "      <th></th>\n",
       "      <th></th>\n",
       "      <th></th>\n",
       "      <th></th>\n",
       "      <th></th>\n",
       "      <th></th>\n",
       "      <th></th>\n",
       "    </tr>\n",
       "  </thead>\n",
       "  <tbody>\n",
       "    <tr>\n",
       "      <th>2021-01-04</th>\n",
       "      <td>31550.0</td>\n",
       "      <td>91538.0</td>\n",
       "      <td>2715.0</td>\n",
       "      <td>51100.0</td>\n",
       "      <td>65900.0</td>\n",
       "      <td>180000.0</td>\n",
       "      <td>8620.0</td>\n",
       "    </tr>\n",
       "    <tr>\n",
       "      <th>2021-01-05</th>\n",
       "      <td>32100.0</td>\n",
       "      <td>92860.0</td>\n",
       "      <td>2720.0</td>\n",
       "      <td>49900.0</td>\n",
       "      <td>65700.0</td>\n",
       "      <td>180000.0</td>\n",
       "      <td>8710.0</td>\n",
       "    </tr>\n",
       "    <tr>\n",
       "      <th>2021-01-06</th>\n",
       "      <td>32400.0</td>\n",
       "      <td>91916.0</td>\n",
       "      <td>2700.0</td>\n",
       "      <td>53600.0</td>\n",
       "      <td>65500.0</td>\n",
       "      <td>176000.0</td>\n",
       "      <td>8700.0</td>\n",
       "    </tr>\n",
       "    <tr>\n",
       "      <th>2021-01-07</th>\n",
       "      <td>33750.0</td>\n",
       "      <td>101551.0</td>\n",
       "      <td>2785.0</td>\n",
       "      <td>54000.0</td>\n",
       "      <td>66300.0</td>\n",
       "      <td>182000.0</td>\n",
       "      <td>8870.0</td>\n",
       "    </tr>\n",
       "    <tr>\n",
       "      <th>2021-01-08</th>\n",
       "      <td>33650.0</td>\n",
       "      <td>99662.0</td>\n",
       "      <td>2755.0</td>\n",
       "      <td>54900.0</td>\n",
       "      <td>66000.0</td>\n",
       "      <td>193000.0</td>\n",
       "      <td>8830.0</td>\n",
       "    </tr>\n",
       "    <tr>\n",
       "      <th>...</th>\n",
       "      <td>...</td>\n",
       "      <td>...</td>\n",
       "      <td>...</td>\n",
       "      <td>...</td>\n",
       "      <td>...</td>\n",
       "      <td>...</td>\n",
       "      <td>...</td>\n",
       "    </tr>\n",
       "    <tr>\n",
       "      <th>2022-11-23</th>\n",
       "      <td>36400.0</td>\n",
       "      <td>82900.0</td>\n",
       "      <td>2695.0</td>\n",
       "      <td>46700.0</td>\n",
       "      <td>49200.0</td>\n",
       "      <td>133500.0</td>\n",
       "      <td>10950.0</td>\n",
       "    </tr>\n",
       "    <tr>\n",
       "      <th>2022-11-24</th>\n",
       "      <td>37050.0</td>\n",
       "      <td>84200.0</td>\n",
       "      <td>2770.0</td>\n",
       "      <td>46700.0</td>\n",
       "      <td>48300.0</td>\n",
       "      <td>135500.0</td>\n",
       "      <td>11050.0</td>\n",
       "    </tr>\n",
       "    <tr>\n",
       "      <th>2022-11-25</th>\n",
       "      <td>36550.0</td>\n",
       "      <td>85000.0</td>\n",
       "      <td>2735.0</td>\n",
       "      <td>45950.0</td>\n",
       "      <td>48100.0</td>\n",
       "      <td>134000.0</td>\n",
       "      <td>11050.0</td>\n",
       "    </tr>\n",
       "    <tr>\n",
       "      <th>2022-11-28</th>\n",
       "      <td>36300.0</td>\n",
       "      <td>84100.0</td>\n",
       "      <td>2685.0</td>\n",
       "      <td>45700.0</td>\n",
       "      <td>47350.0</td>\n",
       "      <td>132000.0</td>\n",
       "      <td>10950.0</td>\n",
       "    </tr>\n",
       "    <tr>\n",
       "      <th>2022-11-29</th>\n",
       "      <td>37350.0</td>\n",
       "      <td>84700.0</td>\n",
       "      <td>2730.0</td>\n",
       "      <td>44950.0</td>\n",
       "      <td>47700.0</td>\n",
       "      <td>134500.0</td>\n",
       "      <td>11050.0</td>\n",
       "    </tr>\n",
       "  </tbody>\n",
       "</table>\n",
       "<p>472 rows × 7 columns</p>\n",
       "</div>"
      ],
      "text/plain": [
       "             055550    003550  009200   000990   031440    009150   024110\n",
       "Date                                                                      \n",
       "2021-01-04  31550.0   91538.0  2715.0  51100.0  65900.0  180000.0   8620.0\n",
       "2021-01-05  32100.0   92860.0  2720.0  49900.0  65700.0  180000.0   8710.0\n",
       "2021-01-06  32400.0   91916.0  2700.0  53600.0  65500.0  176000.0   8700.0\n",
       "2021-01-07  33750.0  101551.0  2785.0  54000.0  66300.0  182000.0   8870.0\n",
       "2021-01-08  33650.0   99662.0  2755.0  54900.0  66000.0  193000.0   8830.0\n",
       "...             ...       ...     ...      ...      ...       ...      ...\n",
       "2022-11-23  36400.0   82900.0  2695.0  46700.0  49200.0  133500.0  10950.0\n",
       "2022-11-24  37050.0   84200.0  2770.0  46700.0  48300.0  135500.0  11050.0\n",
       "2022-11-25  36550.0   85000.0  2735.0  45950.0  48100.0  134000.0  11050.0\n",
       "2022-11-28  36300.0   84100.0  2685.0  45700.0  47350.0  132000.0  10950.0\n",
       "2022-11-29  37350.0   84700.0  2730.0  44950.0  47700.0  134500.0  11050.0\n",
       "\n",
       "[472 rows x 7 columns]"
      ]
     },
     "execution_count": 195,
     "metadata": {},
     "output_type": "execute_result"
    }
   ],
   "source": [
    "df"
   ]
  },
  {
   "cell_type": "code",
   "execution_count": 196,
   "id": "347e9c37",
   "metadata": {},
   "outputs": [
    {
     "data": {
      "text/plain": [
       "Date\n",
       "2021-01-04    1.000000\n",
       "2021-01-05    1.011451\n",
       "2021-01-06    1.009582\n",
       "2021-01-07    1.062186\n",
       "2021-01-08    1.072278\n",
       "                ...   \n",
       "2022-11-23    1.146703\n",
       "2022-11-24    1.175173\n",
       "2022-11-25    1.167536\n",
       "2022-11-28    1.155976\n",
       "2022-11-29    1.174994\n",
       "Length: 472, dtype: float64"
      ]
     },
     "execution_count": 196,
     "metadata": {},
     "output_type": "execute_result"
    }
   ],
   "source": [
    "tr"
   ]
  },
  {
   "cell_type": "code",
   "execution_count": 197,
   "id": "7c6ecc92",
   "metadata": {},
   "outputs": [
    {
     "name": "stderr",
     "output_type": "stream",
     "text": [
      "No handles with labels found to put in legend.\n"
     ]
    },
    {
     "data": {
      "image/png": "[encoded data removed]",
      "text/plain": [
       "<Figure size 432x288 with 1 Axes>"
      ]
     },
     "metadata": {
      "needs_background": "light"
     },
     "output_type": "display_data"
    }
   ],
   "source": [
    "import matplotlib.pyplot as plt\n",
    "plt.plot(df.apply(lambda x : x/df.iloc[0],axis=1))\n",
    "plt.plot(tr,color='black')\n",
    "plt.legend()\n",
    "plt.show()"
   ]
  },
  {
   "cell_type": "code",
   "execution_count": 198,
   "id": "0a7a8924",
   "metadata": {
    "scrolled": true
   },
   "outputs": [
    {
     "data": {
      "text/html": [
       "<div>\n",
       "<style scoped>\n",
       "    .dataframe tbody tr th:only-of-type {\n",
       "        vertical-align: middle;\n",
       "    }\n",
       "\n",
       "    .dataframe tbody tr th {\n",
       "        vertical-align: top;\n",
       "    }\n",
       "\n",
       "    .dataframe thead th {\n",
       "        text-align: right;\n",
       "    }\n",
       "</style>\n",
       "<table border=\"1\" class=\"dataframe\">\n",
       "  <thead>\n",
       "    <tr style=\"text-align: right;\">\n",
       "      <th></th>\n",
       "      <th>055550</th>\n",
       "      <th>003550</th>\n",
       "      <th>009200</th>\n",
       "      <th>000990</th>\n",
       "      <th>031440</th>\n",
       "      <th>009150</th>\n",
       "      <th>024110</th>\n",
       "    </tr>\n",
       "  </thead>\n",
       "  <tbody>\n",
       "    <tr>\n",
       "      <th>055550</th>\n",
       "      <td>1.000000</td>\n",
       "      <td>0.571098</td>\n",
       "      <td>0.452629</td>\n",
       "      <td>0.382716</td>\n",
       "      <td>0.453679</td>\n",
       "      <td>0.357838</td>\n",
       "      <td>0.842311</td>\n",
       "    </tr>\n",
       "    <tr>\n",
       "      <th>003550</th>\n",
       "      <td>0.571098</td>\n",
       "      <td>1.000000</td>\n",
       "      <td>0.366642</td>\n",
       "      <td>0.324573</td>\n",
       "      <td>0.347196</td>\n",
       "      <td>0.425047</td>\n",
       "      <td>0.558878</td>\n",
       "    </tr>\n",
       "    <tr>\n",
       "      <th>009200</th>\n",
       "      <td>0.452629</td>\n",
       "      <td>0.366642</td>\n",
       "      <td>1.000000</td>\n",
       "      <td>0.430501</td>\n",
       "      <td>0.438697</td>\n",
       "      <td>0.293704</td>\n",
       "      <td>0.442391</td>\n",
       "    </tr>\n",
       "    <tr>\n",
       "      <th>000990</th>\n",
       "      <td>0.382716</td>\n",
       "      <td>0.324573</td>\n",
       "      <td>0.430501</td>\n",
       "      <td>1.000000</td>\n",
       "      <td>0.396459</td>\n",
       "      <td>0.232471</td>\n",
       "      <td>0.474581</td>\n",
       "    </tr>\n",
       "    <tr>\n",
       "      <th>031440</th>\n",
       "      <td>0.453679</td>\n",
       "      <td>0.347196</td>\n",
       "      <td>0.438697</td>\n",
       "      <td>0.396459</td>\n",
       "      <td>1.000000</td>\n",
       "      <td>0.371526</td>\n",
       "      <td>0.539986</td>\n",
       "    </tr>\n",
       "    <tr>\n",
       "      <th>009150</th>\n",
       "      <td>0.357838</td>\n",
       "      <td>0.425047</td>\n",
       "      <td>0.293704</td>\n",
       "      <td>0.232471</td>\n",
       "      <td>0.371526</td>\n",
       "      <td>1.000000</td>\n",
       "      <td>0.322716</td>\n",
       "    </tr>\n",
       "    <tr>\n",
       "      <th>024110</th>\n",
       "      <td>0.842311</td>\n",
       "      <td>0.558878</td>\n",
       "      <td>0.442391</td>\n",
       "      <td>0.474581</td>\n",
       "      <td>0.539986</td>\n",
       "      <td>0.322716</td>\n",
       "      <td>1.000000</td>\n",
       "    </tr>\n",
       "  </tbody>\n",
       "</table>\n",
       "</div>"
      ],
      "text/plain": [
       "          055550    003550    009200    000990    031440    009150    024110\n",
       "055550  1.000000  0.571098  0.452629  0.382716  0.453679  0.357838  0.842311\n",
       "003550  0.571098  1.000000  0.366642  0.324573  0.347196  0.425047  0.558878\n",
       "009200  0.452629  0.366642  1.000000  0.430501  0.438697  0.293704  0.442391\n",
       "000990  0.382716  0.324573  0.430501  1.000000  0.396459  0.232471  0.474581\n",
       "031440  0.453679  0.347196  0.438697  0.396459  1.000000  0.371526  0.539986\n",
       "009150  0.357838  0.425047  0.293704  0.232471  0.371526  1.000000  0.322716\n",
       "024110  0.842311  0.558878  0.442391  0.474581  0.539986  0.322716  1.000000"
      ]
     },
     "execution_count": 198,
     "metadata": {},
     "output_type": "execute_result"
    }
   ],
   "source": [
    "rtn_cov"
   ]
  },
  {
   "cell_type": "code",
   "execution_count": 199,
   "id": "9f072e96",
   "metadata": {
    "scrolled": true
   },
   "outputs": [
    {
     "data": {
      "text/html": [
       "<div>\n",
       "<style scoped>\n",
       "    .dataframe tbody tr th:only-of-type {\n",
       "        vertical-align: middle;\n",
       "    }\n",
       "\n",
       "    .dataframe tbody tr th {\n",
       "        vertical-align: top;\n",
       "    }\n",
       "\n",
       "    .dataframe thead th {\n",
       "        text-align: right;\n",
       "    }\n",
       "</style>\n",
       "<table border=\"1\" class=\"dataframe\">\n",
       "  <thead>\n",
       "    <tr style=\"text-align: right;\">\n",
       "      <th></th>\n",
       "      <th>055550</th>\n",
       "      <th>003550</th>\n",
       "      <th>009200</th>\n",
       "      <th>000990</th>\n",
       "      <th>031440</th>\n",
       "      <th>009150</th>\n",
       "      <th>024110</th>\n",
       "    </tr>\n",
       "    <tr>\n",
       "      <th>Date</th>\n",
       "      <th></th>\n",
       "      <th></th>\n",
       "      <th></th>\n",
       "      <th></th>\n",
       "      <th></th>\n",
       "      <th></th>\n",
       "      <th></th>\n",
       "    </tr>\n",
       "  </thead>\n",
       "  <tbody>\n",
       "    <tr>\n",
       "      <th>2002-01-22</th>\n",
       "      <td>-0.369414</td>\n",
       "      <td>-0.294393</td>\n",
       "      <td>-0.419403</td>\n",
       "      <td>-0.004491</td>\n",
       "      <td>-0.384559</td>\n",
       "      <td>-0.258727</td>\n",
       "      <td>-0.370988</td>\n",
       "    </tr>\n",
       "    <tr>\n",
       "      <th>2002-01-23</th>\n",
       "      <td>-0.359915</td>\n",
       "      <td>-0.337833</td>\n",
       "      <td>-0.452247</td>\n",
       "      <td>-0.007485</td>\n",
       "      <td>-0.420714</td>\n",
       "      <td>-0.274194</td>\n",
       "      <td>-0.379665</td>\n",
       "    </tr>\n",
       "    <tr>\n",
       "      <th>2002-01-24</th>\n",
       "      <td>-0.465601</td>\n",
       "      <td>-0.428029</td>\n",
       "      <td>-0.532958</td>\n",
       "      <td>-0.170588</td>\n",
       "      <td>-0.486331</td>\n",
       "      <td>-0.363992</td>\n",
       "      <td>-0.467419</td>\n",
       "    </tr>\n",
       "    <tr>\n",
       "      <th>2002-01-25</th>\n",
       "      <td>-0.457277</td>\n",
       "      <td>-0.430182</td>\n",
       "      <td>-0.464888</td>\n",
       "      <td>-0.202201</td>\n",
       "      <td>-0.487365</td>\n",
       "      <td>-0.408922</td>\n",
       "      <td>-0.450307</td>\n",
       "    </tr>\n",
       "    <tr>\n",
       "      <th>2002-01-28</th>\n",
       "      <td>-0.492498</td>\n",
       "      <td>-0.509172</td>\n",
       "      <td>-0.545578</td>\n",
       "      <td>-0.285141</td>\n",
       "      <td>-0.594839</td>\n",
       "      <td>-0.454887</td>\n",
       "      <td>-0.496368</td>\n",
       "    </tr>\n",
       "    <tr>\n",
       "      <th>...</th>\n",
       "      <td>...</td>\n",
       "      <td>...</td>\n",
       "      <td>...</td>\n",
       "      <td>...</td>\n",
       "      <td>...</td>\n",
       "      <td>...</td>\n",
       "      <td>...</td>\n",
       "    </tr>\n",
       "    <tr>\n",
       "      <th>2022-11-23</th>\n",
       "      <td>-0.049451</td>\n",
       "      <td>-0.073583</td>\n",
       "      <td>-0.076067</td>\n",
       "      <td>-0.112420</td>\n",
       "      <td>0.140244</td>\n",
       "      <td>-0.003745</td>\n",
       "      <td>-0.171689</td>\n",
       "    </tr>\n",
       "    <tr>\n",
       "      <th>2022-11-24</th>\n",
       "      <td>-0.082321</td>\n",
       "      <td>-0.097387</td>\n",
       "      <td>-0.097473</td>\n",
       "      <td>-0.082441</td>\n",
       "      <td>0.173913</td>\n",
       "      <td>-0.025830</td>\n",
       "      <td>-0.182805</td>\n",
       "    </tr>\n",
       "    <tr>\n",
       "      <th>2022-11-25</th>\n",
       "      <td>-0.086183</td>\n",
       "      <td>-0.107059</td>\n",
       "      <td>-0.096892</td>\n",
       "      <td>-0.062024</td>\n",
       "      <td>0.195426</td>\n",
       "      <td>0.037313</td>\n",
       "      <td>-0.196380</td>\n",
       "    </tr>\n",
       "    <tr>\n",
       "      <th>2022-11-28</th>\n",
       "      <td>-0.045455</td>\n",
       "      <td>-0.087990</td>\n",
       "      <td>-0.067039</td>\n",
       "      <td>-0.037199</td>\n",
       "      <td>0.214361</td>\n",
       "      <td>0.060606</td>\n",
       "      <td>-0.162557</td>\n",
       "    </tr>\n",
       "    <tr>\n",
       "      <th>2022-11-29</th>\n",
       "      <td>-0.073628</td>\n",
       "      <td>-0.090909</td>\n",
       "      <td>-0.073260</td>\n",
       "      <td>-0.012236</td>\n",
       "      <td>0.203354</td>\n",
       "      <td>0.033457</td>\n",
       "      <td>-0.167421</td>\n",
       "    </tr>\n",
       "  </tbody>\n",
       "</table>\n",
       "<p>5155 rows × 7 columns</p>\n",
       "</div>"
      ],
      "text/plain": [
       "              055550    003550    009200    000990    031440    009150  \\\n",
       "Date                                                                     \n",
       "2002-01-22 -0.369414 -0.294393 -0.419403 -0.004491 -0.384559 -0.258727   \n",
       "2002-01-23 -0.359915 -0.337833 -0.452247 -0.007485 -0.420714 -0.274194   \n",
       "2002-01-24 -0.465601 -0.428029 -0.532958 -0.170588 -0.486331 -0.363992   \n",
       "2002-01-25 -0.457277 -0.430182 -0.464888 -0.202201 -0.487365 -0.408922   \n",
       "2002-01-28 -0.492498 -0.509172 -0.545578 -0.285141 -0.594839 -0.454887   \n",
       "...              ...       ...       ...       ...       ...       ...   \n",
       "2022-11-23 -0.049451 -0.073583 -0.076067 -0.112420  0.140244 -0.003745   \n",
       "2022-11-24 -0.082321 -0.097387 -0.097473 -0.082441  0.173913 -0.025830   \n",
       "2022-11-25 -0.086183 -0.107059 -0.096892 -0.062024  0.195426  0.037313   \n",
       "2022-11-28 -0.045455 -0.087990 -0.067039 -0.037199  0.214361  0.060606   \n",
       "2022-11-29 -0.073628 -0.090909 -0.073260 -0.012236  0.203354  0.033457   \n",
       "\n",
       "              024110  \n",
       "Date                  \n",
       "2002-01-22 -0.370988  \n",
       "2002-01-23 -0.379665  \n",
       "2002-01-24 -0.467419  \n",
       "2002-01-25 -0.450307  \n",
       "2002-01-28 -0.496368  \n",
       "...              ...  \n",
       "2022-11-23 -0.171689  \n",
       "2022-11-24 -0.182805  \n",
       "2022-11-25 -0.196380  \n",
       "2022-11-28 -0.162557  \n",
       "2022-11-29 -0.167421  \n",
       "\n",
       "[5155 rows x 7 columns]"
      ]
     },
     "execution_count": 199,
     "metadata": {},
     "output_type": "execute_result"
    }
   ],
   "source": [
    "rtn"
   ]
  },
  {
   "cell_type": "code",
   "execution_count": null,
   "id": "f11ca96b",
   "metadata": {},
   "outputs": [],
   "source": []
  },
  {
   "cell_type": "code",
   "execution_count": null,
   "id": "991a7d57",
   "metadata": {},
   "outputs": [],
   "source": []
  }
 ],
 "metadata": {
  "kernelspec": {
   "display_name": "Python 3 (ipykernel)",
   "language": "python",
   "name": "python3"
  },
  "language_info": {
   "codemirror_mode": {
    "name": "ipython",
    "version": 3
   },
   "file_extension": ".py",
   "mimetype": "text/x-python",
   "name": "python",
   "nbconvert_exporter": "python",
   "pygments_lexer": "ipython3",
   "version": "3.9.7"
  }
 },
 "nbformat": 4,
 "nbformat_minor": 5
}
