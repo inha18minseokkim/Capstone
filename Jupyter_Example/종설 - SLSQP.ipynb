{
 "cells": [
  {
   "cell_type": "code",
   "execution_count": 1,
   "id": "482b696f",
   "metadata": {},
   "outputs": [],
   "source": [
    "import FinanceDataReader as fdr\n",
    "import asyncio\n",
    "import numpy as np\n",
    "import pandas as pd\n",
    "import matplotlib.pyplot as plt\n",
    "class StkPrice:\n",
    "    async def getPrice(self,code:str):\n",
    "        res = fdr.DataReader(code)['Close']\n",
    "        return res"
   ]
  },
  {
   "cell_type": "code",
   "execution_count": 2,
   "id": "06e4334f",
   "metadata": {},
   "outputs": [],
   "source": [
    "code = ['005930','091170','003550','009200','261240','097950']\n",
    "loader = StkPrice()\n",
    "df = [await loader.getPrice(c) for c in code]\n"
   ]
  },
  {
   "cell_type": "code",
   "execution_count": 3,
   "id": "e3e4768f",
   "metadata": {},
   "outputs": [],
   "source": [
    "df = pd.DataFrame(df).T\n",
    "df.columns = code"
   ]
  },
  {
   "cell_type": "code",
   "execution_count": 4,
   "id": "7aad3c1a",
   "metadata": {},
   "outputs": [],
   "source": [
    "df = df.dropna()"
   ]
  },
  {
   "cell_type": "code",
   "execution_count": 5,
   "id": "67759ac3",
   "metadata": {},
   "outputs": [],
   "source": [
    "rtn = ((df.shift(30) - df)/df).dropna()"
   ]
  },
  {
   "cell_type": "code",
   "execution_count": 6,
   "id": "69d13a15",
   "metadata": {},
   "outputs": [],
   "source": [
    "mn = rtn.mean(axis=0)*100"
   ]
  },
  {
   "cell_type": "code",
   "execution_count": 7,
   "id": "c6b271f2",
   "metadata": {},
   "outputs": [],
   "source": [
    "stdev =  rtn.std(axis=0)*100"
   ]
  },
  {
   "cell_type": "code",
   "execution_count": 8,
   "id": "767498ff",
   "metadata": {},
   "outputs": [],
   "source": [
    "rtn_cov = rtn.cov()"
   ]
  },
  {
   "cell_type": "code",
   "execution_count": 9,
   "id": "67d490a3",
   "metadata": {},
   "outputs": [],
   "source": [
    "from scipy.optimize import minimize\n",
    "\n",
    "def objfunc(w,rtn_cov):\n",
    "    return np.sqrt(w.T@rtn_cov@w)\n",
    "\n",
    "weights = np.array([1.0/6] * 6)\n",
    "bound = [(0,1) for i in range(6)]\n",
    "params = ({ 'type': 'eq', 'fun': lambda x: np.sum(x) - 1 })\n",
    "res = minimize(objfunc,weights,(rtn_cov),method='SLSQP',bounds=bound,constraints = params)"
   ]
  },
  {
   "cell_type": "code",
   "execution_count": 10,
   "id": "d1bd5250",
   "metadata": {},
   "outputs": [
    {
     "data": {
      "text/plain": [
       "array([0.09028755, 0.08067513, 0.0220514 , 0.        , 0.79469889,\n",
       "       0.01228703])"
      ]
     },
     "execution_count": 10,
     "metadata": {},
     "output_type": "execute_result"
    }
   ],
   "source": [
    "res.x"
   ]
  },
  {
   "cell_type": "code",
   "execution_count": 11,
   "id": "12b1dcb1",
   "metadata": {},
   "outputs": [
    {
     "data": {
      "text/html": [
       "<div>\n",
       "<style scoped>\n",
       "    .dataframe tbody tr th:only-of-type {\n",
       "        vertical-align: middle;\n",
       "    }\n",
       "\n",
       "    .dataframe tbody tr th {\n",
       "        vertical-align: top;\n",
       "    }\n",
       "\n",
       "    .dataframe thead th {\n",
       "        text-align: right;\n",
       "    }\n",
       "</style>\n",
       "<table border=\"1\" class=\"dataframe\">\n",
       "  <thead>\n",
       "    <tr style=\"text-align: right;\">\n",
       "      <th></th>\n",
       "      <th>005930</th>\n",
       "      <th>091170</th>\n",
       "      <th>003550</th>\n",
       "      <th>009200</th>\n",
       "      <th>261240</th>\n",
       "      <th>097950</th>\n",
       "    </tr>\n",
       "  </thead>\n",
       "  <tbody>\n",
       "    <tr>\n",
       "      <th>005930</th>\n",
       "      <td>0.007265</td>\n",
       "      <td>0.003746</td>\n",
       "      <td>0.004088</td>\n",
       "      <td>0.005080</td>\n",
       "      <td>-0.001013</td>\n",
       "      <td>0.003082</td>\n",
       "    </tr>\n",
       "    <tr>\n",
       "      <th>091170</th>\n",
       "      <td>0.003746</td>\n",
       "      <td>0.007814</td>\n",
       "      <td>0.003831</td>\n",
       "      <td>0.005464</td>\n",
       "      <td>-0.001005</td>\n",
       "      <td>0.002631</td>\n",
       "    </tr>\n",
       "    <tr>\n",
       "      <th>003550</th>\n",
       "      <td>0.004088</td>\n",
       "      <td>0.003831</td>\n",
       "      <td>0.010900</td>\n",
       "      <td>0.004087</td>\n",
       "      <td>-0.000874</td>\n",
       "      <td>0.005081</td>\n",
       "    </tr>\n",
       "    <tr>\n",
       "      <th>009200</th>\n",
       "      <td>0.005080</td>\n",
       "      <td>0.005464</td>\n",
       "      <td>0.004087</td>\n",
       "      <td>0.015814</td>\n",
       "      <td>-0.000937</td>\n",
       "      <td>0.004559</td>\n",
       "    </tr>\n",
       "    <tr>\n",
       "      <th>261240</th>\n",
       "      <td>-0.001013</td>\n",
       "      <td>-0.001005</td>\n",
       "      <td>-0.000874</td>\n",
       "      <td>-0.000937</td>\n",
       "      <td>0.000607</td>\n",
       "      <td>-0.000537</td>\n",
       "    </tr>\n",
       "    <tr>\n",
       "      <th>097950</th>\n",
       "      <td>0.003082</td>\n",
       "      <td>0.002631</td>\n",
       "      <td>0.005081</td>\n",
       "      <td>0.004559</td>\n",
       "      <td>-0.000537</td>\n",
       "      <td>0.008932</td>\n",
       "    </tr>\n",
       "  </tbody>\n",
       "</table>\n",
       "</div>"
      ],
      "text/plain": [
       "          005930    091170    003550    009200    261240    097950\n",
       "005930  0.007265  0.003746  0.004088  0.005080 -0.001013  0.003082\n",
       "091170  0.003746  0.007814  0.003831  0.005464 -0.001005  0.002631\n",
       "003550  0.004088  0.003831  0.010900  0.004087 -0.000874  0.005081\n",
       "009200  0.005080  0.005464  0.004087  0.015814 -0.000937  0.004559\n",
       "261240 -0.001013 -0.001005 -0.000874 -0.000937  0.000607 -0.000537\n",
       "097950  0.003082  0.002631  0.005081  0.004559 -0.000537  0.008932"
      ]
     },
     "execution_count": 11,
     "metadata": {},
     "output_type": "execute_result"
    }
   ],
   "source": [
    "rtn_cov"
   ]
  }
 ],
 "metadata": {
  "kernelspec": {
   "display_name": "Python 3 (ipykernel)",
   "language": "python",
   "name": "python3"
  },
  "language_info": {
   "codemirror_mode": {
    "name": "ipython",
    "version": 3
   },
   "file_extension": ".py",
   "mimetype": "text/x-python",
   "name": "python",
   "nbconvert_exporter": "python",
   "pygments_lexer": "ipython3",
   "version": "3.9.7"
  }
 },
 "nbformat": 4,
 "nbformat_minor": 5
}
